{
 "cells": [
  {
   "cell_type": "code",
   "execution_count": 1,
   "metadata": {},
   "outputs": [],
   "source": [
    "import os\n",
    "from dotenv import load_dotenv,find_dotenv\n",
    "load_dotenv(find_dotenv())\n",
    "from utils import Dynamic_dataGen\n",
    "\n",
    "key = os.environ.get(\"OPEN_AI_KEY\")\n",
    "# obj = utils.Static_dataGen(key)"
   ]
  },
  {
   "cell_type": "code",
   "execution_count": 32,
   "metadata": {},
   "outputs": [],
   "source": [
    "f = open('./tool_list.txt', 'r').read()"
   ]
  },
  {
   "cell_type": "code",
   "execution_count": 33,
   "metadata": {},
   "outputs": [
    {
     "data": {
      "text/plain": [
       "'def works_list(\\n    applies_to_part=None, created_by=None, issue_priority=None,\\n    issue_rev_orgs=None, limit=50, owned_by=None, stage_name=None,\\n    ticket_needs_response=False, ticket_rev_org=None,\\n    ticket_severity=None, ticket_source_channel=None, work_type=None\\n):\\n    \"\"\"\\n    Returns a list of work items matching the request\\n\\n    Parameters:\\n        applies_to_part (list): Filters for work belonging to any of the provided parts\\n        created_by (list): Filters for work created by any of these users\\n        issue.priority (list): Filters for issues with any of the provided priorities. Allowed values: p0, p1, p2, p3\\n        issue.rev_orgs (list): Filters for issues with any of the provided Rev organizations\\n        limit (int): The maximum number of works to return. The default is \\'50\\'\\n        owned_by (list): Filters for work owned by any of these users\\n        stage.name (list): Filters for records in the provided stage(s) by name\\n        ticket.needs_response (bool): Filters for tickets that need a response\\n        ticket.rev_org (list): Filters for tickets associated with any of the provided Rev organizations\\n        ticket.severity (list): Filters for tickets with any of the provided severities. Allowed values: blocker, high, low, medium\\n        ticket.source_channel (list): Filters for tickets with any of the provided source channels\\n        type (list): Filters for work of the provided types. Allowed values: issue, ticket, task\\n\\n    Returns:\\n        list: Matching work items\\n    \"\"\"\\n\\ndef summarize_objects(objects):\\n    \"\"\"\\n    Summarizes a list of objects. The logic of how to summarize a\\n    particular object type is an internal implementation detail\\n\\n    Parameters:\\n        objects (list): List of objects to summarize\\n\\n    Returns:\\n        text: Summarized text of the objects\\n    \"\"\"\\n\\ndef prioritize_objects(objects):\\n    \"\"\"\\n    Returns a list of objects sorted by priority. The logic of what constitutes\\n    priority for a given object is an internal implementation detail\\n\\n    Parameters:\\n        objects (list): A list of objects to be prioritized\\n\\n    Returns:\\n        list: Prioritized objects\\n    \"\"\"\\n\\ndef add_work_items_to_sprint(work_ids, sprint_id):\\n    \"\"\"\\n    Adds the given work items to the sprint\\n\\n    Parameters:\\n        work_ids (list): A list of work item IDs to be added to the sprint\\n        sprint_id (str): The ID of the sprint to which the work items should be added\\n    \"\"\"\\n\\ndef get_sprint_id():\\n    \"\"\"\\n    Returns the ID of the current sprint\\n    \"\"\"\\n\\ndef get_similar_work_items(work_id):\\n    \"\"\"\\n    Returns a list of work items that are similar to the given work item\\n\\n    Parameters:\\n        work_id (str): The ID of the work item for which you want to find similar items\\n\\n    Returns:\\n        list: Similar work items\\n    \"\"\"\\n\\ndef search_object_by_name(query):\\n    \"\"\"\\n    Given a search string, returns the ID of a matching object in the system of record.\\n    If multiple matches are found, it returns the one where the confidence is highest\\n\\n    Parameters:\\n        query (str): The search string, could be for example customer’s name, part name, user name\\n\\n    Returns:\\n        str: ID of matching object\\n    \"\"\"\\n\\ndef create_actionable_tasks_from_text(text):\\n    \"\"\"\\n    Given a text, extracts actionable insights, and creates tasks for them,\\n    which are kind of a work item\\n\\n    Parameters:\\n        text (str): The text from which the actionable insights need to be created\\n\\n    Returns:\\n        list: tasks created from the given text\\n    \"\"\"\\n\\ndef who_am_i():\\n    \"\"\"\\n    Returns the string ID of the current user\\n    \"\"\"\\n'"
      ]
     },
     "execution_count": 33,
     "metadata": {},
     "output_type": "execute_result"
    }
   ],
   "source": [
    "f"
   ]
  }
 ],
 "metadata": {
  "kernelspec": {
   "display_name": "dev-rev",
   "language": "python",
   "name": "python3"
  },
  "language_info": {
   "codemirror_mode": {
    "name": "ipython",
    "version": 3
   },
   "file_extension": ".py",
   "mimetype": "text/x-python",
   "name": "python",
   "nbconvert_exporter": "python",
   "pygments_lexer": "ipython3",
   "version": "3.12.0"
  }
 },
 "nbformat": 4,
 "nbformat_minor": 2
}
