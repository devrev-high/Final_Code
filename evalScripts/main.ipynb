{
 "cells": [
  {
   "cell_type": "code",
   "execution_count": 5,
   "metadata": {},
   "outputs": [],
   "source": [
    "import csv\n",
    "import pandas as pd\n",
    "from utils import compelitionP1StaticDynamic, compelitionP1Bonus, compelitionP1Modified"
   ]
  },
  {
   "cell_type": "markdown",
   "metadata": {},
   "source": [
    "# P1 Pipeline Inferencing"
   ]
  },
  {
   "cell_type": "markdown",
   "metadata": {},
   "source": [
    "### Inference for Static Dataset "
   ]
  },
  {
   "cell_type": "code",
   "execution_count": 4,
   "metadata": {},
   "outputs": [],
   "source": [
    "static_df = pd.read_csv(\"./P1_datasets/p1_static_dataset.csv\")\n",
    "model_name = \"deepseek-ai/deepseek-coder-1.3b-instruct\"\n",
    "static_output = []\n",
    "for i, row in static_df.iterrows():\n",
    "    static_dict = {'query': row['Query'],\n",
    "                   'output': row['Output'],\n",
    "                   'docstring': row['Docstring']}\n",
    "    static_output.append({'Output':compelitionP1StaticDynamic(model_name,static_dict)})\n",
    "\n",
    "field_names= ['Output']\n",
    "\n",
    "with open('./P1_infered_output/staticInference.csv', 'w') as csvfile:\n",
    "    writer = csv.DictWriter(csvfile, fieldnames=field_names)\n",
    "    writer.writeheader()\n",
    "    writer.writerows(static_output)"
   ]
  },
  {
   "cell_type": "markdown",
   "metadata": {},
   "source": [
    "### Inference for Dynamic Dataset "
   ]
  },
  {
   "cell_type": "code",
   "execution_count": null,
   "metadata": {},
   "outputs": [],
   "source": [
    "static_df = pd.read_csv(\"./P1_datasets/p1_dynamic_dataset.csv\")\n",
    "model_name = \"deepseek-ai/deepseek-coder-1.3b-instruct\"\n",
    "static_output = []\n",
    "for i, row in static_df.iterrows():\n",
    "    static_dict = {'query': row['Query'],\n",
    "                   'output': row['Output'],\n",
    "                   'docstring': row['Docstring']}\n",
    "    static_output.append({'Output':compelitionP1StaticDynamic(model_name,static_dict)})\n",
    "\n",
    "field_names= ['Output']\n",
    "\n",
    "with open('./P1_infered_output/dynamicInference.csv', 'w') as csvfile:\n",
    "    writer = csv.DictWriter(csvfile, fieldnames=field_names)\n",
    "    writer.writeheader()\n",
    "    writer.writerows(static_output)"
   ]
  },
  {
   "cell_type": "markdown",
   "metadata": {},
   "source": [
    "### Inference for Bonus Dataset "
   ]
  },
  {
   "cell_type": "code",
   "execution_count": null,
   "metadata": {},
   "outputs": [],
   "source": [
    "static_df = pd.read_csv(\"./P1_datasets/p1_bonus_dataset.csv\")\n",
    "model_name = \"deepseek-ai/deepseek-coder-1.3b-instruct\"\n",
    "static_output = []\n",
    "for i, row in static_df.iterrows():\n",
    "    static_dict = {'query': row['Query'],\n",
    "                   'output': row['Output'],\n",
    "                   'docstring': row['Docstring']}\n",
    "    static_output.append({'Output':compelitionP1Bonus(model_name,static_dict)})\n",
    "\n",
    "field_names= ['Output']\n",
    "\n",
    "with open('./P1_infered_output/bonusInference.csv', 'w') as csvfile:\n",
    "    writer = csv.DictWriter(csvfile, fieldnames=field_names)\n",
    "    writer.writeheader()\n",
    "    writer.writerows(static_output)"
   ]
  },
  {
   "cell_type": "markdown",
   "metadata": {},
   "source": [
    "### Inference for Modified Dataset "
   ]
  },
  {
   "cell_type": "code",
   "execution_count": 2,
   "metadata": {},
   "outputs": [],
   "source": [
    "static_df = pd.read_csv(\"./P1_datasets/p1_modified_dataset.csv\")\n",
    "model_name = \"deepseek-ai/deepseek-coder-1.3b-instruct\"\n",
    "static_output = []\n",
    "for i, row in static_df.iterrows():\n",
    "    static_dict = {'query': row['Query'],\n",
    "                   'output': row['Output'],\n",
    "                   'docstring': row['Docstring']}\n",
    "    static_output.append({'Output':compelitionP1Modified(model_name,static_dict)})\n",
    "\n",
    "field_names= ['Output']\n",
    "\n",
    "with open('./P1_infered_output/modifiedInference.csv', 'w') as csvfile:\n",
    "    writer = csv.DictWriter(csvfile, fieldnames=field_names)\n",
    "    writer.writeheader()\n",
    "    writer.writerows(static_output)"
   ]
  }
 ],
 "metadata": {
  "kernelspec": {
   "display_name": "devrev",
   "language": "python",
   "name": "python3"
  },
  "language_info": {
   "codemirror_mode": {
    "name": "ipython",
    "version": 3
   },
   "file_extension": ".py",
   "mimetype": "text/x-python",
   "name": "python",
   "nbconvert_exporter": "python",
   "pygments_lexer": "ipython3",
   "version": "3.12.0"
  }
 },
 "nbformat": 4,
 "nbformat_minor": 2
}
